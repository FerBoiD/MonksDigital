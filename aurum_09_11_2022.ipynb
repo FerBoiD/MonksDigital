{
 "cells": [
  {
   "cell_type": "code",
   "execution_count": 1,
   "metadata": {},
   "outputs": [
    {
     "name": "stdout",
     "output_type": "stream",
     "text": [
      "22/11/29 20:28:39 WARN Utils: Your hostname, ujjawal-Latitude-3420 resolves to a loopback address: 127.0.1.1; using 10.101.4.95 instead (on interface wlp44s0)\n",
      "22/11/29 20:28:39 WARN Utils: Set SPARK_LOCAL_IP if you need to bind to another address\n"
     ]
    },
    {
     "name": "stderr",
     "output_type": "stream",
     "text": [
      "Setting default log level to \"WARN\".\n",
      "To adjust logging level use sc.setLogLevel(newLevel). For SparkR, use setLogLevel(newLevel).\n"
     ]
    },
    {
     "name": "stdout",
     "output_type": "stream",
     "text": [
      "22/11/29 20:28:39 WARN NativeCodeLoader: Unable to load native-hadoop library for your platform... using builtin-java classes where applicable\n"
     ]
    }
   ],
   "source": [
    "from pyspark.sql.types import StructType,StructField, StringType, IntegerType\n",
    "from pyspark.sql import SparkSession\n",
    "from pyspark.sql import Row\n",
    "spark = SparkSession.builder.getOrCreate()\n",
    "from datetime import datetime, date\n",
    "from pyspark.sql.functions import *\n",
    "from pyspark.sql.window import Window"
   ]
  },
  {
   "cell_type": "code",
   "execution_count": 2,
   "metadata": {},
   "outputs": [],
   "source": [
    "spark.read.parquet('/home/ujjawal/Desktop/test_local/public/aurum_policy_list/09_11_2022_parquet/').createOrReplaceTempView('table1')"
   ]
  },
  {
   "cell_type": "code",
   "execution_count": 3,
   "metadata": {},
   "outputs": [],
   "source": [
    "df1 = spark.sql('select * from table1')"
   ]
  },
  {
   "cell_type": "code",
   "execution_count": 4,
   "metadata": {},
   "outputs": [
    {
     "data": {
      "text/plain": [
       "13001"
      ]
     },
     "execution_count": 4,
     "metadata": {},
     "output_type": "execute_result"
    }
   ],
   "source": [
    "df1.count()"
   ]
  },
  {
   "cell_type": "code",
   "execution_count": 6,
   "metadata": {},
   "outputs": [
    {
     "name": "stdout",
     "output_type": "stream",
     "text": [
      "+-------------+--------------------+\n",
      "|POLICY_NUMBER|      edl_created_at|\n",
      "+-------------+--------------------+\n",
      "|  503-5766319|2022-08-06 05-40-...|\n",
      "|  503-5452928|2022-08-06 05-40-...|\n",
      "|  502-9795621|2022-08-06 05-40-...|\n",
      "|  500-6465404|2022-08-06 05-40-...|\n",
      "|  500-1545333|2022-08-06 05-40-...|\n",
      "|  500-2605227|2022-08-06 05-40-...|\n",
      "|  502-7045318|2022-08-06 05-40-...|\n",
      "|  502-9514147|2022-08-06 05-40-...|\n",
      "|  502-9983607|2022-08-06 05-40-...|\n",
      "|  500-5546469|2022-08-06 05-40-...|\n",
      "|  503-3667337|2022-08-06 05-40-...|\n",
      "|  502-9967469|2022-08-06 05-40-...|\n",
      "|  501-2058789|2022-08-06 05-40-...|\n",
      "|  500-9459297|2022-08-06 05-40-...|\n",
      "|  500-0843317|2022-08-06 05-40-...|\n",
      "|  503-3680314|2022-08-06 05-40-...|\n",
      "|  500-5306872|2022-08-06 05-40-...|\n",
      "|  502-9783809|2022-08-06 05-40-...|\n",
      "|  503-3536656|2022-08-06 05-40-...|\n",
      "|  503-1142424|2022-08-06 05-40-...|\n",
      "+-------------+--------------------+\n",
      "only showing top 20 rows\n",
      "\n"
     ]
    }
   ],
   "source": [
    "df1.show()"
   ]
  },
  {
   "cell_type": "code",
   "execution_count": 14,
   "metadata": {},
   "outputs": [],
   "source": [
    "spark.read.option('header', 'True').csv('/home/ujjawal/Desktop/test_local/public/policy_list_new/').createOrReplaceTempView('table2')"
   ]
  },
  {
   "cell_type": "code",
   "execution_count": 15,
   "metadata": {},
   "outputs": [],
   "source": [
    "df2 = spark.sql(\"\"\"select policy_number, \"22-11-29 13:06:59.659\" as edl_created_at from table2\"\"\")"
   ]
  },
  {
   "cell_type": "code",
   "execution_count": 16,
   "metadata": {},
   "outputs": [
    {
     "name": "stdout",
     "output_type": "stream",
     "text": [
      "+-------------+--------------------+\n",
      "|policy_number|      edl_created_at|\n",
      "+-------------+--------------------+\n",
      "|  500-0143031|22-11-29 13:06:59...|\n",
      "|  500-0161041|22-11-29 13:06:59...|\n",
      "|  500-0161124|22-11-29 13:06:59...|\n",
      "|  500-0166123|22-11-29 13:06:59...|\n",
      "|  500-0205533|22-11-29 13:06:59...|\n",
      "|  500-0229335|22-11-29 13:06:59...|\n",
      "|  500-0254671|22-11-29 13:06:59...|\n",
      "|  500-0279751|22-11-29 13:06:59...|\n",
      "|  500-0289404|22-11-29 13:06:59...|\n",
      "|  500-0291327|22-11-29 13:06:59...|\n",
      "|  500-0301456|22-11-29 13:06:59...|\n",
      "|  500-0311018|22-11-29 13:06:59...|\n",
      "|  500-0326586|22-11-29 13:06:59...|\n",
      "|  500-0332097|22-11-29 13:06:59...|\n",
      "|  500-0345065|22-11-29 13:06:59...|\n",
      "|  500-0359108|22-11-29 13:06:59...|\n",
      "|  500-0377456|22-11-29 13:06:59...|\n",
      "|  500-0387992|22-11-29 13:06:59...|\n",
      "|  500-0404292|22-11-29 13:06:59...|\n",
      "|  500-0408426|22-11-29 13:06:59...|\n",
      "+-------------+--------------------+\n",
      "only showing top 20 rows\n",
      "\n"
     ]
    }
   ],
   "source": [
    "df2.show()"
   ]
  },
  {
   "cell_type": "code",
   "execution_count": 17,
   "metadata": {},
   "outputs": [],
   "source": [
    "df2.write.mode('overwrite').parquet('/home/ujjawal/Desktop/test_local/public/policy_29_11/final')"
   ]
  },
  {
   "cell_type": "code",
   "execution_count": 20,
   "metadata": {},
   "outputs": [],
   "source": [
    "df1.createOrReplaceTempView('T1')\n",
    "df2.createOrReplaceTempView('T2')\n",
    "df_final = spark.sql('select POLICY_NUMBER, edl_created_at from T1 UNION select POLICY_NUMBER, edl_created_at from T2')"
   ]
  },
  {
   "cell_type": "code",
   "execution_count": 21,
   "metadata": {},
   "outputs": [
    {
     "data": {
      "text/plain": [
       "13009"
      ]
     },
     "execution_count": 21,
     "metadata": {},
     "output_type": "execute_result"
    }
   ],
   "source": [
    "df_final.count()"
   ]
  },
  {
   "cell_type": "code",
   "execution_count": 22,
   "metadata": {},
   "outputs": [],
   "source": [
    "df_final.write.parquet('/home/ujjawal/Desktop/test_local/public/aurum_policy_list/09_11_2022/final')"
   ]
  },
  {
   "cell_type": "code",
   "execution_count": null,
   "metadata": {},
   "outputs": [],
   "source": []
  }
 ],
 "metadata": {
  "kernelspec": {
   "display_name": "Python 3.10.6 ('test_local': venv)",
   "language": "python",
   "name": "python3"
  },
  "language_info": {
   "codemirror_mode": {
    "name": "ipython",
    "version": 3
   },
   "file_extension": ".py",
   "mimetype": "text/x-python",
   "name": "python",
   "nbconvert_exporter": "python",
   "pygments_lexer": "ipython3",
   "version": "3.10.6"
  },
  "orig_nbformat": 4,
  "vscode": {
   "interpreter": {
    "hash": "9fec4beb63ebb8fab876391c00012ced519af9243b96152ffdb004594ee50cb1"
   }
  }
 },
 "nbformat": 4,
 "nbformat_minor": 2
}
